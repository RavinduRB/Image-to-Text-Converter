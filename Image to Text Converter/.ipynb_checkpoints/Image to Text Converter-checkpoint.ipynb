{
 "cells": [
  {
   "cell_type": "code",
   "execution_count": 1,
   "id": "c7a1ea73-de66-4681-80a6-bf8f42163fb8",
   "metadata": {},
   "outputs": [
    {
     "name": "stdout",
     "output_type": "stream",
     "text": [
      "Requirement already satisfied: pillow in c:\\users\\asus\\anaconda3\\lib\\site-packages (10.2.0)\n",
      "Collecting pytesseract\n",
      "  Using cached pytesseract-0.3.13-py3-none-any.whl.metadata (11 kB)\n",
      "Requirement already satisfied: packaging>=21.3 in c:\\users\\asus\\anaconda3\\lib\\site-packages (from pytesseract) (23.2)\n",
      "Using cached pytesseract-0.3.13-py3-none-any.whl (14 kB)\n",
      "Installing collected packages: pytesseract\n",
      "Successfully installed pytesseract-0.3.13\n",
      "Note: you may need to restart the kernel to use updated packages.\n"
     ]
    }
   ],
   "source": [
    "pip install pillow pytesseract"
   ]
  },
  {
   "cell_type": "code",
   "execution_count": null,
   "id": "0c0e4a33-d38b-4df2-ba47-4e47e3735224",
   "metadata": {},
   "outputs": [],
   "source": [
    "import tkinter as tk\n",
    "from tkinter import filedialog, Text, messagebox\n",
    "from PIL import Image\n",
    "import pytesseract\n",
    "\n",
    "# Set the Tesseract command path here\n",
    "pytesseract.pytesseract.tesseract_cmd = r'C:\\Program Files\\Tesseract-OCR\\tesseract.exe'  # Update path if different\n",
    "\n",
    "# Initialize the main app window\n",
    "root = tk.Tk()\n",
    "root.title(\"Image to Text Converter\")\n",
    "root.geometry(\"600x400\")\n",
    "\n",
    "# Function to open and select an image\n",
    "def open_file():\n",
    "    file_path = filedialog.askopenfilename(\n",
    "        title=\"Select an Image\",\n",
    "        filetypes=[(\"Image Files\", \"*.png *.jpg *.jpeg *.bmp *.tiff\")]\n",
    "    )\n",
    "    if file_path:\n",
    "        extract_text(file_path)\n",
    "\n",
    "# Function to extract text from the selected image\n",
    "def extract_text(file_path):\n",
    "    try:\n",
    "        image = Image.open(file_path)\n",
    "        text = pytesseract.image_to_string(image)\n",
    "        display_text.delete(1.0, tk.END)  # Clear previous text\n",
    "        display_text.insert(tk.END, text)  # Insert new text\n",
    "    except Exception as e:\n",
    "        messagebox.showerror(\"Error\", f\"Could not process the image: {e}\")\n",
    "\n",
    "# Button to open an image file\n",
    "open_button = tk.Button(root, text=\"Open Image\", command=open_file, font=(\"Arial\", 12))\n",
    "open_button.pack(pady=20)\n",
    "\n",
    "# Text box to display extracted text\n",
    "display_text = Text(root, wrap=\"word\", font=(\"Arial\", 10), width=60, height=15)\n",
    "display_text.pack(pady=20)\n",
    "\n",
    "# Run the Tkinter event loop\n",
    "root.mainloop()\n"
   ]
  },
  {
   "cell_type": "code",
   "execution_count": null,
   "id": "cfeeca76-3baf-4ef6-b2e5-020ba5e8de32",
   "metadata": {},
   "outputs": [],
   "source": []
  }
 ],
 "metadata": {
  "kernelspec": {
   "display_name": "Python 3 (ipykernel)",
   "language": "python",
   "name": "python3"
  },
  "language_info": {
   "codemirror_mode": {
    "name": "ipython",
    "version": 3
   },
   "file_extension": ".py",
   "mimetype": "text/x-python",
   "name": "python",
   "nbconvert_exporter": "python",
   "pygments_lexer": "ipython3",
   "version": "3.11.7"
  }
 },
 "nbformat": 4,
 "nbformat_minor": 5
}
